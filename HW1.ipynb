{
 "cells": [
  {
   "cell_type": "markdown",
   "metadata": {},
   "source": [
    "# Digit Recognizer\n",
    "https://www.kaggle.com/c/digit-recognizer"
   ]
  },
  {
   "cell_type": "code",
   "execution_count": 1,
   "metadata": {},
   "outputs": [],
   "source": [
    "%matplotlib inline\n",
    "import cv2\n",
    "import numpy as np\n",
    "import matplotlib.pyplot as plt"
   ]
  },
  {
   "cell_type": "markdown",
   "metadata": {},
   "source": [
    "## Загружаем исходные данные"
   ]
  },
  {
   "cell_type": "code",
   "execution_count": 2,
   "metadata": {},
   "outputs": [],
   "source": [
    "train = np.loadtxt('./data/digit/train.csv', delimiter=',', skiprows=1)\n",
    "test = np.loadtxt('./data/digit/test.csv', delimiter=',', skiprows=1)"
   ]
  },
  {
   "cell_type": "code",
   "execution_count": 3,
   "metadata": {},
   "outputs": [],
   "source": [
    "# сохраняем разметку в отдельную переменную\n",
    "train_label,train=np.split(train,[1], axis=1)\n",
    "train_label = train_label.ravel()"
   ]
  },
  {
   "cell_type": "markdown",
   "metadata": {},
   "source": [
    "## приводим размерность к удобному для обаботки виду\n",
    "as a Transformer class"
   ]
  },
  {
   "cell_type": "code",
   "execution_count": 4,
   "metadata": {},
   "outputs": [],
   "source": [
    "from sklearn.base import BaseEstimator, TransformerMixin\n",
    "class Resize(BaseEstimator, TransformerMixin):\n",
    "    def __init__(self, size=28):\n",
    "        self.size = size\n",
    "\n",
    "    # fit() doesn't do anything, this is a transformer class\n",
    "    def fit(self, X, y = None):\n",
    "        return self\n",
    "\n",
    "    #all the work is done here\n",
    "    def transform(self, X):\n",
    "        img = np.resize(X, (X.shape[0], self.size, self.size))\n",
    "        return img"
   ]
  },
  {
   "cell_type": "code",
   "execution_count": 5,
   "metadata": {},
   "outputs": [],
   "source": [
    "rs = Resize(size=28)\n",
    "train_img = rs.transform(train)\n",
    "test_img = rs.transform(test)"
   ]
  },
  {
   "cell_type": "code",
   "execution_count": 6,
   "metadata": {},
   "outputs": [
    {
     "data": {
      "text/plain": [
       "((42000, 784), (42000, 28, 28), (28000, 784), (28000, 28, 28))"
      ]
     },
     "execution_count": 6,
     "metadata": {},
     "output_type": "execute_result"
    }
   ],
   "source": [
    "train.shape, train_img.shape, test.shape, test_img.shape"
   ]
  },
  {
   "cell_type": "code",
   "execution_count": 7,
   "metadata": {},
   "outputs": [],
   "source": [
    "# this is a reverse of Resize - back to vector\n",
    "class Flatten(BaseEstimator, TransformerMixin):\n",
    "    def __init__(self, size=28):\n",
    "        self.size = size\n",
    "\n",
    "    # fit() doesn't do anything, this is a transformer class\n",
    "    def fit(self, X, y = None):\n",
    "        return self\n",
    "\n",
    "    #all the work is done here\n",
    "    def transform(self, X):\n",
    "        return X.reshape(X.shape[0],-1)"
   ]
  },
  {
   "cell_type": "markdown",
   "metadata": {},
   "source": [
    "## Визуализируем исходные данные"
   ]
  },
  {
   "cell_type": "code",
   "execution_count": 8,
   "metadata": {},
   "outputs": [
    {
     "data": {
      "image/png": "[encoded data removed]",
      "text/plain": [
       "<Figure size 1440x720 with 5 Axes>"
      ]
     },
     "metadata": {},
     "output_type": "display_data"
    }
   ],
   "source": [
    "fig = plt.figure(figsize=(20, 10))\n",
    "for i, img in enumerate(train_img[0:5], 1):\n",
    "    subplot = fig.add_subplot(1, 7, i)\n",
    "    plt.imshow(img, cmap='gray');\n",
    "    subplot.set_title('%s' % train_label[i - 1]);"
   ]
  },
  {
   "cell_type": "markdown",
   "metadata": {},
   "source": [
    "## Calculate angle and length of gradients using Sobel filter. Produce histo\n",
    "as Transformer classes"
   ]
  },
  {
   "cell_type": "code",
   "execution_count": 9,
   "metadata": {},
   "outputs": [],
   "source": [
    "class Gradient(BaseEstimator, TransformerMixin):\n",
    "    def __init__(self, ksize=3):\n",
    "        self.ksize = ksize\n",
    "\n",
    "    # fit() doesn't do anything, this is a transformer class\n",
    "    def fit(self, X, y = None):\n",
    "        return self\n",
    "\n",
    "    #all the work is done here\n",
    "    def transform(self, X):\n",
    "        #x,y of the gradient using Sobel filter\n",
    "        sobel_x = np.zeros_like(X)\n",
    "        sobel_y = np.zeros_like(X)\n",
    "        for i in range(len(X)):\n",
    "            sobel_x[i] = cv2.Sobel(X[i], cv2.CV_64F, dx=1, dy=0, ksize=3)\n",
    "            sobel_y[i] = cv2.Sobel(X[i], cv2.CV_64F, dx=0, dy=1, ksize=3)\n",
    "        \n",
    "        #angle and length of a vector\n",
    "        g, theta = cv2.cartToPolar(sobel_x, sobel_y)\n",
    "        return g, theta"
   ]
  },
  {
   "cell_type": "code",
   "execution_count": 10,
   "metadata": {},
   "outputs": [],
   "source": [
    "class GradientHisto(BaseEstimator, TransformerMixin):\n",
    "    def __init__(self, n_bins=16, normalize=True):\n",
    "        self.n_bins=n_bins\n",
    "        self.normalize = True\n",
    "\n",
    "    # fit() doesn't do anything, this is a transformer class\n",
    "    def fit(self, X, y = None):\n",
    "        return self\n",
    "\n",
    "    #all the work is done here\n",
    "    def transform(self, X):\n",
    "        #Gradients\n",
    "        gr = Gradient()\n",
    "        g, theta = gr.transform(X)\n",
    "        \n",
    "        #histo\n",
    "        hist = np.zeros((len(X), self.n_bins))\n",
    "        for i in range(len(X)):\n",
    "            hist1, borders = np.histogram(\n",
    "                theta[i],\n",
    "                bins = self.n_bins,\n",
    "                range = (0., 2. * np.pi),\n",
    "                weights = g[i]\n",
    "            )\n",
    "            #print(hist.shape, hist[i].shape)\n",
    "            hist[i] = hist1\n",
    "            \n",
    "        # По умолчанию используется L2 норма\n",
    "        if self.normalize == True:\n",
    "            hist = hist / np.linalg.norm(hist, axis=1)[:, None]\n",
    "        \n",
    "        return hist"
   ]
  },
  {
   "cell_type": "code",
   "execution_count": 11,
   "metadata": {},
   "outputs": [],
   "source": [
    "gr = Gradient()\n",
    "train_g, train_theta = gr.transform(train_img)"
   ]
  },
  {
   "cell_type": "code",
   "execution_count": 12,
   "metadata": {},
   "outputs": [
    {
     "data": {
      "image/png": "[encoded data removed]",
      "text/plain": [
       "<Figure size 1440x720 with 10 Axes>"
      ]
     },
     "metadata": {},
     "output_type": "display_data"
    }
   ],
   "source": [
    "fig = plt.figure(figsize=(20, 10))\n",
    "for i, img in enumerate(train_g[:5], 1):\n",
    "    subplot = fig.add_subplot(1, 7, i)\n",
    "    plt.imshow(img, cmap='gray');\n",
    "    subplot.set_title('%s' % train_label[i - 1]);\n",
    "    subplot = fig.add_subplot(3, 7, i)\n",
    "    plt.hist(train_theta[i - 1].flatten(),\n",
    "             bins=16, weights=train_g[i - 1].flatten())"
   ]
  },
  {
   "cell_type": "markdown",
   "metadata": {},
   "source": [
    "## Shift histo-max to zero ?\n"
   ]
  },
  {
   "cell_type": "code",
   "execution_count": 13,
   "metadata": {},
   "outputs": [],
   "source": [
    "def ShiftHisto(train_hist):\n",
    "    train_hist_shifted = np.zeros((len(train_img), 16))\n",
    "    train_hist_argmax = np.argmax(train_hist, axis=1)\n",
    "\n",
    "    for i in range(len(train_img)):\n",
    "        train_hist[i] = np.roll(train_hist[i], -train_hist_argmax[i])\n",
    "    return train_hist"
   ]
  },
  {
   "cell_type": "markdown",
   "metadata": {},
   "source": [
    "## Binarization and Morphological filters"
   ]
  },
  {
   "cell_type": "code",
   "execution_count": 14,
   "metadata": {},
   "outputs": [],
   "source": [
    "from sklearn.base import BaseEstimator, TransformerMixin\n",
    "class Binarize(BaseEstimator, TransformerMixin):\n",
    "    def __init__(self, threshold, max_value=255.0):\n",
    "        self.threshold = threshold\n",
    "        self.max_value = max_value\n",
    "\n",
    "    # fit() doesn't do anything, this is a transformer class\n",
    "    def fit(self, X, y = None):\n",
    "        return self\n",
    "\n",
    "    #all the work is done here\n",
    "    def transform(self, X):\n",
    "        return self.max_value * (X > self.threshold)"
   ]
  },
  {
   "cell_type": "code",
   "execution_count": 15,
   "metadata": {},
   "outputs": [],
   "source": [
    "#TODO\n",
    "# cv2.adaptiveThreshold(src, maxValue, adaptiveMethod, thresholdType, blockSize, C)\n",
    "# src - исходное одноканальное изображение\n",
    "# maxValue - значение пикселей для которых интенсивность выше порога\n",
    "# adaptiveMethod - метод оценки порога: cv2.ADAPTIVE_THRESH_MEAN_C,"
   ]
  },
  {
   "cell_type": "code",
   "execution_count": 16,
   "metadata": {},
   "outputs": [],
   "source": [
    "class MorphFilter(BaseEstimator, TransformerMixin):\n",
    "    filters = {\n",
    "        #'erosion'=\n",
    "    }\n",
    "    def __init__(self, filt, k_size=2):\n",
    "        self.filt = filt\n",
    "        self.k_size = k_size\n",
    "        self.kernel = np.ones((self.k_size, self.k_size), np.float32)\n",
    "\n",
    "    # fit() doesn't do anything, this is a transformer class\n",
    "    def fit(self, X, y = None):\n",
    "        return self\n",
    "    \n",
    "    #all the work is done here\n",
    "    def transform(self, X):\n",
    "        ret = np.zeros_like(X)\n",
    "        for i in range(len(X)):\n",
    "            if self.filt == 'erode':\n",
    "                ret[i] = cv2.erode(X[i],self.kernel,iterations = 1)\n",
    "            elif self.filt == 'dilate':\n",
    "                ret[i] = cv2.dilate(X[i],self.kernel,iterations = 1)\n",
    "            elif self.filt == 'open':\n",
    "                ret[i] = cv2.morphologyEx(X[i], cv2.MORPH_OPEN, self.kernel)\n",
    "            elif self.filt == 'close':\n",
    "                ret[i] = cv2.morphologyEx(X[i], cv2.MORPH_CLOSE, self.kernel)\n",
    "        return ret"
   ]
  },
  {
   "cell_type": "code",
   "execution_count": 17,
   "metadata": {},
   "outputs": [],
   "source": [
    "#Unit test\n",
    "bn = Binarize(threshold=200)\n",
    "t1 = bn.transform(train_img[0:3])\n",
    "\n",
    "mf = MorphFilter(filt='erode', k_size=2)\n",
    "t2 = mf.transform(t1)\n",
    "\n",
    "fl = Flatten()\n",
    "t3 = fl.transform(t2)"
   ]
  },
  {
   "cell_type": "code",
   "execution_count": 18,
   "metadata": {},
   "outputs": [
    {
     "data": {
      "text/plain": [
       "array([[0., 0., 0., ..., 0., 0., 0.],\n",
       "       [0., 0., 0., ..., 0., 0., 0.],\n",
       "       [0., 0., 0., ..., 0., 0., 0.]])"
      ]
     },
     "execution_count": 18,
     "metadata": {},
     "output_type": "execute_result"
    }
   ],
   "source": [
    "t3"
   ]
  },
  {
   "cell_type": "code",
   "execution_count": 19,
   "metadata": {},
   "outputs": [],
   "source": [
    "#sharpen filter ?\n",
    "#laplas? - edges ?\n",
    "#bilateral ?\n",
    "#distance transform on binary with edges ?"
   ]
  },
  {
   "cell_type": "markdown",
   "metadata": {},
   "source": [
    "## Logistic Regression on the whole image"
   ]
  },
  {
   "cell_type": "code",
   "execution_count": 20,
   "metadata": {},
   "outputs": [],
   "source": [
    "from sklearn.model_selection import train_test_split\n",
    "y_train, y_val, x_train, x_val = train_test_split(\n",
    "    train_label, train, test_size=0.2,\n",
    "    random_state=42)"
   ]
  },
  {
   "cell_type": "code",
   "execution_count": 21,
   "metadata": {
    "scrolled": true
   },
   "outputs": [],
   "source": [
    "# Find optimal C and other params\n",
    "from sklearn.linear_model import LogisticRegression, LogisticRegressionCV\n",
    "lrcv = LogisticRegressionCV(n_jobs=-1, random_state=42, \n",
    "                          solver='saga', max_iter=100, \n",
    "                          multi_class='multinomial',class_weight='balanced',\n",
    "                          Cs=np.logspace(-3,1,base=10,num=3),\n",
    "                          penalty='l1',\n",
    "                       )\n"
   ]
  },
  {
   "cell_type": "code",
   "execution_count": 22,
   "metadata": {},
   "outputs": [],
   "source": [
    "lr = LogisticRegression(n_jobs=-1, random_state=42, \n",
    "                          solver='saga', max_iter=100, \n",
    "                          multi_class='multinomial',class_weight='balanced',\n",
    "                          C=0.003,\n",
    "                          penalty='l1',\n",
    "                       )"
   ]
  },
  {
   "cell_type": "code",
   "execution_count": 23,
   "metadata": {},
   "outputs": [],
   "source": [
    "#scaling doesn't work well here.\n",
    "# from sklearn.preprocessing import StandardScaler\n",
    "# lr_sc = StandardScaler()\n",
    "# x_train = lr_sc.fit_transform(x_train)\n",
    "# x_val = lr_sc.transform(x_val)"
   ]
  },
  {
   "cell_type": "markdown",
   "metadata": {},
   "source": [
    "## Logit on binarized and morphed features"
   ]
  },
  {
   "cell_type": "code",
   "execution_count": 25,
   "metadata": {},
   "outputs": [],
   "source": [
    "from sklearn.pipeline import Pipeline, FeatureUnion\n"
   ]
  },
  {
   "cell_type": "code",
   "execution_count": 26,
   "metadata": {},
   "outputs": [],
   "source": [
    "#Logit on the binarized and morphed\n",
    "rs = Resize(size=28)\n",
    "\n",
    "lr_m = LogisticRegression(n_jobs=-1, solver='saga', random_state=42,\n",
    "                                multi_class='multinomial',class_weight='balanced',\n",
    "                                #Cs=np.logspace(-3,0,base=10,num=4)\n",
    "                                C=0.001,\n",
    "                                #cv=5,\n",
    "                                penalty='l1',\n",
    "                               )\n",
    "\n",
    "lr_mp = Pipeline([\n",
    "     ('rs', rs), #resize to square image size\n",
    "     ('b', Binarize(threshold=200)),\n",
    "     ('morph', FeatureUnion([\n",
    "         ('er', MorphFilter(filt='erode',k_size=2)),\n",
    "         ('di', MorphFilter(filt='dilate')),\n",
    "         ('op', MorphFilter(filt='open')),\n",
    "         ('cl', MorphFilter(filt='close')),\n",
    "          ])),\n",
    "     ('fl', fl), #(flatten) back to vector\n",
    "    ('lr_morph', lr_m)\n",
    "], memory=\"/tmp\")"
   ]
  },
  {
   "cell_type": "code",
   "execution_count": 27,
   "metadata": {},
   "outputs": [
    {
     "name": "stdout",
     "output_type": "stream",
     "text": [
      "CPU times: user 11min 20s, sys: 542 ms, total: 11min 20s\n",
      "Wall time: 11min 20s\n"
     ]
    },
    {
     "name": "stderr",
     "output_type": "stream",
     "text": [
      "/home/artem/miniconda3/envs/cv/lib/python3.6/site-packages/sklearn/linear_model/sag.py:326: ConvergenceWarning: The max_iter was reached which means the coef_ did not converge\n",
      "  \"the coef_ did not converge\", ConvergenceWarning)\n"
     ]
    },
    {
     "data": {
      "text/plain": [
       "Pipeline(memory='/tmp',\n",
       "     steps=[('rs', Resize(size=28)), ('b', Binarize(max_value=255.0, threshold=200)), ('morph', FeatureUnion(n_jobs=1,\n",
       "       transformer_list=[('er', MorphFilter(filt='erode', k_size=2)), ('di', MorphFilter(filt='dilate', k_size=2)), ('op', MorphFilter(filt='open', k_size=2)), ('cl', MorphFilter(filt='c...'l1',\n",
       "          random_state=42, solver='saga', tol=0.0001, verbose=0,\n",
       "          warm_start=False))])"
      ]
     },
     "execution_count": 27,
     "metadata": {},
     "output_type": "execute_result"
    }
   ],
   "source": [
    "%%time\n",
    "lr_mp.fit(x_train, y_train)"
   ]
  },
  {
   "cell_type": "code",
   "execution_count": 28,
   "metadata": {
    "scrolled": false
   },
   "outputs": [
    {
     "name": "stdout",
     "output_type": "stream",
     "text": [
      "Accuracy: 0.9229761904761905\n"
     ]
    }
   ],
   "source": [
    "pred_val = lr_mp.predict(x_val)\n",
    "from sklearn.metrics import accuracy_score\n",
    "print('Accuracy: %s' % accuracy_score(y_val, pred_val))"
   ]
  },
  {
   "cell_type": "code",
   "execution_count": 29,
   "metadata": {},
   "outputs": [],
   "source": [
    "\n",
    "# 0.8920 C=0.0001, l1, multinomial, saga,\n",
    "# 0.9194 C=0.001, l1, multinomial, saga,\n",
    "# 0.9203 C=0.003\n",
    "# 0.86xx C=0.003 scaled 0.86\n",
    "# 0.9195 C=0.005\n",
    "# 0.9187 C=0.007\n",
    "# 0.9194 C=0.01, l1, multinomial, saga,\n",
    "# 0.9173 C=0.05\n",
    "# 0.9165 C=0.1, l1, multinomial, saga,\n",
    "\n",
    "# On binarized only\n",
    "# 0.89345 - bin default\n",
    "# 0.897619 - bin, saga, multinomial, balanced\n",
    "# 0.89773 bin, saga, multinomial, balanced, CV-0.001\n",
    "# 0.8975 C=0.003 saga, multinomial, balanced, \n",
    "# 0.8964 CV-sag, l2, 5fold, multinomial, balanced,\n",
    "# 0.9013 C=0.001 (L1) bin, saga , multinomial, balanced, \n",
    "\n",
    "#on binarized+morphed\n",
    "# 0.90130# morph-close 0.90130 C=0.001 (L1) bin, saga , multinomial, balanced, \n",
    "# 0.92297 morph 4 C=0.001 (L1) bin, saga , multinomial, balanced, "
   ]
  },
  {
   "cell_type": "markdown",
   "metadata": {},
   "source": [
    "## Gradient Historgramms + models"
   ]
  },
  {
   "cell_type": "code",
   "execution_count": 30,
   "metadata": {},
   "outputs": [
    {
     "name": "stdout",
     "output_type": "stream",
     "text": [
      "CPU times: user 3.91 s, sys: 204 ms, total: 4.11 s\n",
      "Wall time: 3.17 s\n"
     ]
    }
   ],
   "source": [
    "%%time\n",
    "# test of GradientHistoClass\n",
    "gh_n_bins=32\n",
    "gh = GradientHisto(gh_n_bins)\n",
    "train_hist = gh.transform(train_img)"
   ]
  },
  {
   "cell_type": "code",
   "execution_count": 31,
   "metadata": {},
   "outputs": [],
   "source": [
    "from sklearn.decomposition import PCA\n",
    "pca_h = PCA()\n",
    "train_hist = pca_h.fit_transform(train_hist)"
   ]
  },
  {
   "cell_type": "code",
   "execution_count": 32,
   "metadata": {},
   "outputs": [
    {
     "data": {
      "text/plain": [
       "[<matplotlib.lines.Line2D at 0x7f6c1000b898>]"
      ]
     },
     "execution_count": 32,
     "metadata": {},
     "output_type": "execute_result"
    },
    {
     "data": {
      "image/png": "[encoded data removed]",
      "text/plain": [
       "<Figure size 432x288 with 1 Axes>"
      ]
     },
     "metadata": {},
     "output_type": "display_data"
    }
   ],
   "source": [
    "plt.plot(np.cumsum(pca_h.explained_variance_ratio_), 'o')"
   ]
  },
  {
   "cell_type": "code",
   "execution_count": 33,
   "metadata": {},
   "outputs": [
    {
     "data": {
      "text/plain": [
       "(42000, 32)"
      ]
     },
     "execution_count": 33,
     "metadata": {},
     "output_type": "execute_result"
    }
   ],
   "source": [
    "train_hist.shape"
   ]
  },
  {
   "cell_type": "code",
   "execution_count": 34,
   "metadata": {},
   "outputs": [],
   "source": [
    "from sklearn.model_selection import train_test_split\n",
    "y_train, y_val, x_train, x_val = train_test_split(\n",
    "    train_label, train_hist, test_size=0.2,\n",
    "    random_state=42)"
   ]
  },
  {
   "cell_type": "code",
   "execution_count": 35,
   "metadata": {},
   "outputs": [
    {
     "name": "stdout",
     "output_type": "stream",
     "text": [
      "Accuracy: 0.4369047619047619\n"
     ]
    }
   ],
   "source": [
    "## Use NearestCentroid model\n",
    "\n",
    "from sklearn.neighbors.nearest_centroid import NearestCentroid\n",
    "nc = NearestCentroid()\n",
    "nc.fit(x_train, y_train)\n",
    "pred_val = nc.predict(x_val)\n",
    "from sklearn.metrics import accuracy_score\n",
    "print('Accuracy: %s' % accuracy_score(y_val, pred_val))"
   ]
  },
  {
   "cell_type": "code",
   "execution_count": 36,
   "metadata": {},
   "outputs": [
    {
     "name": "stdout",
     "output_type": "stream",
     "text": [
      "Accuracy: 0.6086904761904762\n"
     ]
    },
    {
     "name": "stderr",
     "output_type": "stream",
     "text": [
      "/home/artem/miniconda3/envs/cv/lib/python3.6/site-packages/sklearn/linear_model/sag.py:326: ConvergenceWarning: The max_iter was reached which means the coef_ did not converge\n",
      "  \"the coef_ did not converge\", ConvergenceWarning)\n"
     ]
    }
   ],
   "source": [
    "## Logistic Regression\n",
    "\n",
    "lr_h = LogisticRegression(solver='saga', C=10, penalty='l1', multi_class='multinomial')\n",
    "lr_h.fit(x_train, y_train)\n",
    "pred_val = lr_h.predict(x_val)\n",
    "print('Accuracy: %s' % accuracy_score(y_val, pred_val))"
   ]
  },
  {
   "cell_type": "code",
   "execution_count": null,
   "metadata": {},
   "outputs": [],
   "source": []
  },
  {
   "cell_type": "markdown",
   "metadata": {},
   "source": [
    "## PCA on the whole image"
   ]
  },
  {
   "cell_type": "code",
   "execution_count": 37,
   "metadata": {},
   "outputs": [],
   "source": [
    "from sklearn.decomposition import PCA"
   ]
  },
  {
   "cell_type": "code",
   "execution_count": 38,
   "metadata": {
    "scrolled": false
   },
   "outputs": [
    {
     "data": {
      "text/plain": [
       "[<matplotlib.lines.Line2D at 0x7f6c0b88c390>]"
      ]
     },
     "execution_count": 38,
     "metadata": {},
     "output_type": "execute_result"
    },
    {
     "data": {
      "image/png": "[encoded data removed]",
      "text/plain": [
       "<Figure size 432x288 with 1 Axes>"
      ]
     },
     "metadata": {},
     "output_type": "display_data"
    }
   ],
   "source": [
    "pca=PCA()\n",
    "pca.fit(train, train_label)\n",
    "#plot explained variance\n",
    "plt.plot(np.cumsum(pca.explained_variance_ratio_), 'o')"
   ]
  },
  {
   "cell_type": "code",
   "execution_count": 39,
   "metadata": {},
   "outputs": [],
   "source": [
    "#let's find the optimal number of components.\n",
    "from sklearn.model_selection import GridSearchCV"
   ]
  },
  {
   "cell_type": "code",
   "execution_count": 40,
   "metadata": {},
   "outputs": [],
   "source": [
    "from sklearn.preprocessing import StandardScaler\n",
    "from sklearn.svm import LinearSVC\n",
    "pca_sc = StandardScaler()\n",
    "pca = PCA()\n",
    "svc = LinearSVC()\n",
    "pca_pipe = Pipeline([\n",
    "            ('sc', pca_sc ),\n",
    "            ('pca', pca),\n",
    "            ('svc', svc),\n",
    "        ], memory=\"/tmp\")"
   ]
  },
  {
   "cell_type": "markdown",
   "metadata": {},
   "source": [
    "### Search optimal number of PCA components"
   ]
  },
  {
   "cell_type": "code",
   "execution_count": 41,
   "metadata": {},
   "outputs": [
    {
     "data": {
      "text/plain": [
       "array([ 32,  43,  59,  80, 109, 149, 203, 276, 376, 512], dtype=uint16)"
      ]
     },
     "execution_count": 41,
     "metadata": {},
     "output_type": "execute_result"
    }
   ],
   "source": [
    "np.logspace(5,9,base=2, num=10, dtype=np.uint16)"
   ]
  },
  {
   "cell_type": "code",
   "execution_count": 42,
   "metadata": {},
   "outputs": [],
   "source": [
    "gcv_grid_params = {\n",
    "    'pca__n_components': np.logspace(5,9,base=2, num=10, dtype=np.uint16)\n",
    "}\n",
    "gcv_params = {\n",
    "    'scoring':'accuracy',\n",
    "    'n_jobs': -1,\n",
    "    'cv':5,\n",
    "}\n",
    "gcv = GridSearchCV(pca_pipe, gcv_grid_params, **gcv_params)"
   ]
  },
  {
   "cell_type": "code",
   "execution_count": 43,
   "metadata": {},
   "outputs": [],
   "source": [
    "from sklearn.model_selection import train_test_split\n",
    "y_train, y_val, x_train, x_val = train_test_split(\n",
    "    train_label, train, test_size=0.2,\n",
    "    random_state=42)"
   ]
  },
  {
   "cell_type": "code",
   "execution_count": 44,
   "metadata": {
    "scrolled": true
   },
   "outputs": [
    {
     "data": {
      "text/plain": [
       "GridSearchCV(cv=5, error_score='raise',\n",
       "       estimator=Pipeline(memory='/tmp',\n",
       "     steps=[('sc', StandardScaler(copy=True, with_mean=True, with_std=True)), ('pca', PCA(copy=True, iterated_power='auto', n_components=None, random_state=None,\n",
       "  svd_solver='auto', tol=0.0, whiten=False)), ('svc', LinearSVC(C=1.0, class_weight=None, dual=True, fit_intercept=True,\n",
       "     intercept_scaling=1, loss='squared_hinge', max_iter=1000,\n",
       "     multi_class='ovr', penalty='l2', random_state=None, tol=0.0001,\n",
       "     verbose=0))]),\n",
       "       fit_params=None, iid=True, n_jobs=-1,\n",
       "       param_grid={'pca__n_components': array([ 32,  43,  59,  80, 109, 149, 203, 276, 376, 512], dtype=uint16)},\n",
       "       pre_dispatch='2*n_jobs', refit=True, return_train_score='warn',\n",
       "       scoring='accuracy', verbose=0)"
      ]
     },
     "execution_count": 44,
     "metadata": {},
     "output_type": "execute_result"
    }
   ],
   "source": [
    "gcv.fit(x_train, y_train)"
   ]
  },
  {
   "cell_type": "code",
   "execution_count": 45,
   "metadata": {},
   "outputs": [
    {
     "data": {
      "text/plain": [
       "{'pca__n_components': 203}"
      ]
     },
     "execution_count": 45,
     "metadata": {},
     "output_type": "execute_result"
    }
   ],
   "source": [
    "gcv.best_params_\n",
    "# {'pca__n_components': 203}"
   ]
  },
  {
   "cell_type": "code",
   "execution_count": 46,
   "metadata": {},
   "outputs": [
    {
     "name": "stdout",
     "output_type": "stream",
     "text": [
      "Accuracy: 0.9046428571428572\n"
     ]
    }
   ],
   "source": [
    "pred_val = gcv.predict(x_val)\n",
    "print('Accuracy: %s' % accuracy_score(y_val, pred_val))"
   ]
  },
  {
   "cell_type": "code",
   "execution_count": null,
   "metadata": {},
   "outputs": [],
   "source": []
  },
  {
   "cell_type": "markdown",
   "metadata": {},
   "source": [
    "# Pipeline / blending"
   ]
  },
  {
   "cell_type": "markdown",
   "metadata": {},
   "source": [
    "## Ensemble trick with pipeline\n",
    "\n",
    "Normally pipelines allow only one estmator class, and it should be the final one. If one wants to blend output of multiple models (metafeatures), Pipeline class can not be used as is.\n",
    "\n",
    "This wrapper class allows us to produce metafeatures in the pipeline - predictions from different methods, and then fit a final estimator on these metrafeatures. This class pretends to be a transformer class, while under the hood it outputs predictions from a given model. \n",
    "\n",
    "You'd use it like this:\n",
    "```\n",
    "p = Pipiline([\n",
    "   ('u', FeatureUnion([\n",
    "     ('lr', ClassifierWrapper(LogisticRegression()) ),\n",
    "     ('nc', ClassifierWrapper(NearestCentroid()) ),\n",
    "   ])),\n",
    "   ('xgb', XGBClassifier())\n",
    "])\n",
    "```\n",
    "Here, predictions from Logistic Regressions  and NearestCentriod models become metafeatures for XGBClassifier."
   ]
  },
  {
   "cell_type": "code",
   "execution_count": 47,
   "metadata": {},
   "outputs": [],
   "source": [
    "\n",
    "from sklearn.metrics import get_scorer\n",
    "class ClassifierWrapper(BaseEstimator, TransformerMixin):\n",
    "    \n",
    "    def __init__(\n",
    "            self, estimator, verbose=None, \n",
    "            fit_params=None, \n",
    "            use_proba=True, #whether to use predict_proba in transform\n",
    "            scoring=None, # calculate validation score, takes score function name\n",
    "            ignore_one_class_proba=True, #return one less class probability, in case of use_proba.\n",
    "            ):\n",
    "        self.estimator = estimator\n",
    "        self.verbose = verbose #True = 1, False = 0, 1 - moderately verbose, 2- extra verbose    \n",
    "        if verbose is None:\n",
    "            self.verbose=0\n",
    "        else:\n",
    "            self.verbose=verbose\n",
    "        self.fit_params= fit_params\n",
    "        self.use_proba = use_proba \n",
    "        self.scoring = scoring \n",
    "        #TODO check if scorer imported?\n",
    "        self.score = None #variable to keep the score if scoring is set.\n",
    "        self.use_proba_first_index = 0 #for slicing of class probabilities as returned by predict_proba()\n",
    "        if ignore_one_class_proba == True:\n",
    "            self.use_proba_first_index = 1 #will return only probabilityed for classes 1:N, ignore class 0\n",
    "\n",
    "    def fit(self,X,y):\n",
    "        fp=self.fit_params\n",
    "        if self.verbose==2: print(\"X: \", X.shape, \"\\nFit params:\", self.fit_params)\n",
    "        \n",
    "        if fp is not None:\n",
    "            self.estimator.fit(X,y, **fp)\n",
    "        else:\n",
    "            self.estimator.fit(X,y)\n",
    "        \n",
    "        return self\n",
    "    \n",
    "    def transform(self, X):\n",
    "        if self.use_proba:\n",
    "            return self.estimator.predict_proba(X)[:, self.use_proba_first_index:]\n",
    "        else:\n",
    "            return self.estimator.predict(X).reshape(-1, 1)\n",
    "    \n",
    "    def fit_transform(self,X,y,**kwargs):\n",
    "        self.fit(X,y)\n",
    "        p = self.transform(X)\n",
    "        if self.scoring is not None:\n",
    "            self.score = eval(self.scoring+\"(y,p)\")\n",
    "            #TODO print own instance name?\n",
    "            if self.verbose >0: print(\"score: \", self.score) \n",
    "        return p\n",
    "    \n",
    "    def predict(self,X):\n",
    "        return self.estimator.predict(X)\n",
    "    \n",
    "    def predict_proba(self,X):\n",
    "        return self.estimator.predict_proba(X)"
   ]
  },
  {
   "cell_type": "markdown",
   "metadata": {},
   "source": [
    "### Logit on the raw image data step"
   ]
  },
  {
   "cell_type": "code",
   "execution_count": 48,
   "metadata": {},
   "outputs": [],
   "source": [
    "lr_cw = ClassifierWrapper(lr)"
   ]
  },
  {
   "cell_type": "markdown",
   "metadata": {},
   "source": [
    "### Logit on the binarised+morphed image data step"
   ]
  },
  {
   "cell_type": "code",
   "execution_count": 49,
   "metadata": {},
   "outputs": [],
   "source": [
    "lr_mp_cw = ClassifierWrapper(lr_mp)"
   ]
  },
  {
   "cell_type": "markdown",
   "metadata": {},
   "source": [
    "### PCA on the raw image data step"
   ]
  },
  {
   "cell_type": "code",
   "execution_count": 50,
   "metadata": {},
   "outputs": [],
   "source": [
    "from sklearn.preprocessing import StandardScaler\n",
    "from sklearn.svm import LinearSVC\n",
    "pca_sc = StandardScaler()\n",
    "pca = PCA(n_components=203)\n",
    "svc = LinearSVC()\n",
    "pca_pipe = Pipeline([\n",
    "            ('sc', pca_sc ),\n",
    "            ('pca', pca),\n",
    "            ('svc', svc),\n",
    "        ], memory=\"/tmp\")\n",
    "pca_cw = ClassifierWrapper(pca_pipe, use_proba=False)"
   ]
  },
  {
   "cell_type": "code",
   "execution_count": 51,
   "metadata": {},
   "outputs": [],
   "source": [
    "#pca_pipe.fit(train, train_label)"
   ]
  },
  {
   "cell_type": "markdown",
   "metadata": {},
   "source": [
    "### Gistogramm + Nearest Centroid step"
   ]
  },
  {
   "cell_type": "code",
   "execution_count": 52,
   "metadata": {},
   "outputs": [],
   "source": [
    "gh_pipe= Pipeline([\n",
    "    ('rs', rs), #resize from vector to square matrix\n",
    "    ('gh', gh),\n",
    "    ('gh_pca', PCA()), \n",
    "    ('nc', nc),\n",
    "], memory=\"/tmp\")\n",
    "gh_cw = ClassifierWrapper(gh_pipe, use_proba=False)"
   ]
  },
  {
   "cell_type": "markdown",
   "metadata": {},
   "source": [
    "### Gistogramm + Logit step"
   ]
  },
  {
   "cell_type": "code",
   "execution_count": 53,
   "metadata": {},
   "outputs": [],
   "source": [
    "gh_lr_pipe= Pipeline([\n",
    "    ('rs', rs), #resize from vector to square matrix\n",
    "    ('gh', gh),\n",
    "    ('gh_pca', PCA()), \n",
    "    ('gh_lr', lr_h),\n",
    "], memory=\"/tmp\")\n",
    "gh_lr_cw = ClassifierWrapper(gh_lr_pipe, use_proba=False)"
   ]
  },
  {
   "cell_type": "markdown",
   "metadata": {},
   "source": [
    "### This is a final estimator on the meta features"
   ]
  },
  {
   "cell_type": "code",
   "execution_count": 54,
   "metadata": {},
   "outputs": [],
   "source": [
    "from xgboost import XGBClassifier\n",
    "\n",
    "xgb_params={\n",
    "    'objective': 'multi:softmax', #softprob\n",
    "    'num_class':10,\n",
    "    'eta': 0.1,\n",
    "    'max_depth': 5,\n",
    "    'silent' :1,\n",
    "    'eval_metric' : \"merror\",\n",
    "    'min_child_weight': 1,\n",
    "    'subsample': 0.8,\n",
    "    'colsample_bytree': 0.3,\n",
    "    'seed':17,\n",
    "    'num_rounds':5000,\n",
    "}\n",
    "\n",
    "xgb = XGBClassifier(**xgb_params)"
   ]
  },
  {
   "cell_type": "markdown",
   "metadata": {},
   "source": [
    "### Pipe definition"
   ]
  },
  {
   "cell_type": "code",
   "execution_count": 55,
   "metadata": {},
   "outputs": [],
   "source": [
    "pipe3 = Pipeline([\n",
    "    ('u1', FeatureUnion([\n",
    "        ('lr_cw', lr_cw),\n",
    "        ('lr_mp_cw', lr_mp_cw),\n",
    "        ('pca_cw', pca_cw),\n",
    "        ('gh_cw', gh_cw),\n",
    "        ('gh_lr_cw', gh_lr_cw),\n",
    "    ])),\n",
    "    #('lrfinal', LogisticRegression()),\n",
    "    ('xgb', xgb),\n",
    "],memory=\"/tmp\")\n"
   ]
  },
  {
   "cell_type": "code",
   "execution_count": 56,
   "metadata": {},
   "outputs": [],
   "source": [
    "from sklearn.model_selection import train_test_split\n",
    "y_train, y_val, x_train, x_val = train_test_split(\n",
    "    train_label, train, test_size=0.2,\n",
    "    random_state=42)"
   ]
  },
  {
   "cell_type": "code",
   "execution_count": 57,
   "metadata": {},
   "outputs": [
    {
     "data": {
      "text/plain": [
       "((33600,), (33600, 784))"
      ]
     },
     "execution_count": 57,
     "metadata": {},
     "output_type": "execute_result"
    }
   ],
   "source": [
    "y_train.shape, x_train.shape"
   ]
  },
  {
   "cell_type": "code",
   "execution_count": 58,
   "metadata": {
    "scrolled": true
   },
   "outputs": [
    {
     "name": "stderr",
     "output_type": "stream",
     "text": [
      "/home/artem/miniconda3/envs/cv/lib/python3.6/site-packages/sklearn/linear_model/sag.py:326: ConvergenceWarning: The max_iter was reached which means the coef_ did not converge\n",
      "  \"the coef_ did not converge\", ConvergenceWarning)\n",
      "/home/artem/miniconda3/envs/cv/lib/python3.6/site-packages/sklearn/linear_model/sag.py:326: ConvergenceWarning: The max_iter was reached which means the coef_ did not converge\n",
      "  \"the coef_ did not converge\", ConvergenceWarning)\n",
      "/home/artem/miniconda3/envs/cv/lib/python3.6/site-packages/sklearn/linear_model/sag.py:326: ConvergenceWarning: The max_iter was reached which means the coef_ did not converge\n",
      "  \"the coef_ did not converge\", ConvergenceWarning)\n"
     ]
    },
    {
     "data": {
      "text/plain": [
       "Pipeline(memory='/tmp',\n",
       "     steps=[('u1', FeatureUnion(n_jobs=1,\n",
       "       transformer_list=[('lr_cw', ClassifierWrapper(estimator=LogisticRegression(C=0.003, class_weight='balanced', dual=False,\n",
       "          fit_intercept=True, intercept_scaling=1, max_iter=100,\n",
       "          multi_class='multinomial', n_jobs=-1, penalty='l1',\n",
       "        ...m_state=0, reg_alpha=0,\n",
       "       reg_lambda=1, scale_pos_weight=1, seed=17, silent=1, subsample=0.8))])"
      ]
     },
     "execution_count": 58,
     "metadata": {},
     "output_type": "execute_result"
    }
   ],
   "source": [
    "pipe3.fit(x_train, y_train)"
   ]
  },
  {
   "cell_type": "code",
   "execution_count": 59,
   "metadata": {},
   "outputs": [
    {
     "name": "stderr",
     "output_type": "stream",
     "text": [
      "/home/artem/miniconda3/envs/cv/lib/python3.6/site-packages/sklearn/preprocessing/label.py:151: DeprecationWarning: The truth value of an empty array is ambiguous. Returning False, but in future this will result in an error. Use `array.size > 0` to check that an array is not empty.\n",
      "  if diff:\n"
     ]
    }
   ],
   "source": [
    "pred_val = pipe3.predict(x_val)"
   ]
  },
  {
   "cell_type": "code",
   "execution_count": 60,
   "metadata": {},
   "outputs": [
    {
     "data": {
      "text/plain": [
       "array([8., 1., 9., ..., 3., 0., 9.])"
      ]
     },
     "execution_count": 60,
     "metadata": {},
     "output_type": "execute_result"
    }
   ],
   "source": [
    "pred_val"
   ]
  },
  {
   "cell_type": "markdown",
   "metadata": {},
   "source": [
    "## Оцениваем качество решение на валидационной выборке"
   ]
  },
  {
   "cell_type": "code",
   "execution_count": 61,
   "metadata": {},
   "outputs": [
    {
     "name": "stdout",
     "output_type": "stream",
     "text": [
      "Accuracy: 0.9432142857142857\n"
     ]
    }
   ],
   "source": [
    "from sklearn.metrics import accuracy_score\n",
    "print('Accuracy: %s' % accuracy_score(y_val, pred_val))"
   ]
  },
  {
   "cell_type": "code",
   "execution_count": 62,
   "metadata": {
    "scrolled": true
   },
   "outputs": [
    {
     "name": "stdout",
     "output_type": "stream",
     "text": [
      "             precision    recall  f1-score   support\n",
      "\n",
      "        0.0       0.97      0.97      0.97       816\n",
      "        1.0       0.98      0.98      0.98       909\n",
      "        2.0       0.94      0.93      0.93       846\n",
      "        3.0       0.93      0.92      0.93       937\n",
      "        4.0       0.94      0.95      0.94       839\n",
      "        5.0       0.90      0.91      0.90       702\n",
      "        6.0       0.95      0.97      0.96       785\n",
      "        7.0       0.95      0.95      0.95       893\n",
      "        8.0       0.93      0.93      0.93       835\n",
      "        9.0       0.93      0.92      0.93       838\n",
      "\n",
      "avg / total       0.94      0.94      0.94      8400\n",
      "\n"
     ]
    }
   ],
   "source": [
    "from sklearn.metrics import classification_report\n",
    "print(classification_report(y_val, pred_val))"
   ]
  },
  {
   "cell_type": "code",
   "execution_count": 63,
   "metadata": {
    "scrolled": true
   },
   "outputs": [
    {
     "name": "stdout",
     "output_type": "stream",
     "text": [
      "[[794   0   1   0   2   8   8   0   2   1]\n",
      " [  0 893   5   0   1   2   1   3   2   2]\n",
      " [  4   3 788   7   9   8   8   6  12   1]\n",
      " [  1   1  11 863   0  27   2   7  16   9]\n",
      " [  2   1   5   1 794   1   8   4   1  22]\n",
      " [  5   2   8  21   3 640   8   1  10   4]\n",
      " [  6   1   5   1   2   4 760   1   5   0]\n",
      " [  0   1   7   6  10   3   0 846   3  17]\n",
      " [  2   2   8  15   7  17   4   4 773   3]\n",
      " [  5   3   2  10  16   3   0  22   5 772]]\n"
     ]
    }
   ],
   "source": [
    "from sklearn.metrics import confusion_matrix\n",
    "print(confusion_matrix(y_val, pred_val))"
   ]
  },
  {
   "cell_type": "markdown",
   "metadata": {},
   "source": [
    "## Предсказания на тестовых данных"
   ]
  },
  {
   "cell_type": "code",
   "execution_count": 64,
   "metadata": {},
   "outputs": [
    {
     "name": "stderr",
     "output_type": "stream",
     "text": [
      "/home/artem/miniconda3/envs/cv/lib/python3.6/site-packages/sklearn/preprocessing/label.py:151: DeprecationWarning: The truth value of an empty array is ambiguous. Returning False, but in future this will result in an error. Use `array.size > 0` to check that an array is not empty.\n",
      "  if diff:\n"
     ]
    }
   ],
   "source": [
    "pred_test = pipe3.predict(test)"
   ]
  },
  {
   "cell_type": "markdown",
   "metadata": {},
   "source": [
    "## Визуализируем предсказания"
   ]
  },
  {
   "cell_type": "code",
   "execution_count": 65,
   "metadata": {},
   "outputs": [
    {
     "data": {
      "image/png": "[encoded data removed]",
      "text/plain": [
       "<Figure size 1440x720 with 5 Axes>"
      ]
     },
     "metadata": {},
     "output_type": "display_data"
    }
   ],
   "source": [
    "fig = plt.figure(figsize=(20, 10))\n",
    "for i, img in enumerate(test_img[0:5], 1):\n",
    "    subplot = fig.add_subplot(1, 7, i)\n",
    "    plt.imshow(img, cmap='gray');\n",
    "    subplot.set_title('%s' % pred_test[i - 1]);"
   ]
  },
  {
   "cell_type": "markdown",
   "metadata": {},
   "source": [
    "## Готовим файл для отправки"
   ]
  },
  {
   "cell_type": "code",
   "execution_count": 66,
   "metadata": {},
   "outputs": [],
   "source": [
    "with open('mnist2.csv', 'w') as dst:\n",
    "    dst.write('ImageId,Label\\n')\n",
    "    for i, p in enumerate(pred_test, 1):\n",
    "        dst.write('%s,%s\\n' % (i, int(p)))"
   ]
  },
  {
   "cell_type": "code",
   "execution_count": 67,
   "metadata": {},
   "outputs": [
    {
     "name": "stdout",
     "output_type": "stream",
     "text": [
      "ImageId,Label\r\n",
      "1,2\r\n",
      "2,0\r\n",
      "3,9\r\n",
      "4,9\r\n",
      "5,3\r\n",
      "6,7\r\n",
      "7,0\r\n",
      "8,3\r\n",
      "9,0\r\n"
     ]
    }
   ],
   "source": [
    "!head mnist1.csv"
   ]
  },
  {
   "cell_type": "code",
   "execution_count": 68,
   "metadata": {
    "scrolled": true
   },
   "outputs": [
    {
     "name": "stdout",
     "output_type": "stream",
     "text": [
      "/home/artem/hse-cv/lectures/cv/002\r\n"
     ]
    }
   ],
   "source": [
    "!pwd"
   ]
  },
  {
   "cell_type": "code",
   "execution_count": 69,
   "metadata": {},
   "outputs": [],
   "source": [
    "#  submission scored 0.94028"
   ]
  },
  {
   "cell_type": "markdown",
   "metadata": {},
   "source": [
    "## Train on the whole set"
   ]
  },
  {
   "cell_type": "code",
   "execution_count": 70,
   "metadata": {},
   "outputs": [
    {
     "name": "stderr",
     "output_type": "stream",
     "text": [
      "/home/artem/miniconda3/envs/cv/lib/python3.6/site-packages/sklearn/linear_model/sag.py:326: ConvergenceWarning: The max_iter was reached which means the coef_ did not converge\n",
      "  \"the coef_ did not converge\", ConvergenceWarning)\n",
      "/home/artem/miniconda3/envs/cv/lib/python3.6/site-packages/sklearn/linear_model/sag.py:326: ConvergenceWarning: The max_iter was reached which means the coef_ did not converge\n",
      "  \"the coef_ did not converge\", ConvergenceWarning)\n",
      "/home/artem/miniconda3/envs/cv/lib/python3.6/site-packages/sklearn/linear_model/sag.py:326: ConvergenceWarning: The max_iter was reached which means the coef_ did not converge\n",
      "  \"the coef_ did not converge\", ConvergenceWarning)\n"
     ]
    },
    {
     "data": {
      "text/plain": [
       "Pipeline(memory='/tmp',\n",
       "     steps=[('u1', FeatureUnion(n_jobs=1,\n",
       "       transformer_list=[('lr_cw', ClassifierWrapper(estimator=LogisticRegression(C=0.003, class_weight='balanced', dual=False,\n",
       "          fit_intercept=True, intercept_scaling=1, max_iter=100,\n",
       "          multi_class='multinomial', n_jobs=-1, penalty='l1',\n",
       "        ...m_state=0, reg_alpha=0,\n",
       "       reg_lambda=1, scale_pos_weight=1, seed=17, silent=1, subsample=0.8))])"
      ]
     },
     "execution_count": 70,
     "metadata": {},
     "output_type": "execute_result"
    }
   ],
   "source": [
    "pipe3.fit(train, train_label)"
   ]
  },
  {
   "cell_type": "code",
   "execution_count": 72,
   "metadata": {},
   "outputs": [
    {
     "name": "stderr",
     "output_type": "stream",
     "text": [
      "/home/artem/miniconda3/envs/cv/lib/python3.6/site-packages/sklearn/preprocessing/label.py:151: DeprecationWarning: The truth value of an empty array is ambiguous. Returning False, but in future this will result in an error. Use `array.size > 0` to check that an array is not empty.\n",
      "  if diff:\n"
     ]
    }
   ],
   "source": [
    "pred_test = pipe3.predict(test)"
   ]
  },
  {
   "cell_type": "code",
   "execution_count": 73,
   "metadata": {},
   "outputs": [],
   "source": [
    "with open('mnist2a.csv', 'w') as dst:\n",
    "    dst.write('ImageId,Label\\n')\n",
    "    for i, p in enumerate(pred_test, 1):\n",
    "        dst.write('%s,%s\\n' % (i, int(p)))"
   ]
  },
  {
   "cell_type": "code",
   "execution_count": 75,
   "metadata": {},
   "outputs": [],
   "source": [
    "#submission scored 0,94314"
   ]
  }
 ],
 "metadata": {
  "kernelspec": {
   "display_name": "Python 3",
   "language": "python",
   "name": "python3"
  },
  "language_info": {
   "codemirror_mode": {
    "name": "ipython",
    "version": 3
   },
   "file_extension": ".py",
   "mimetype": "text/x-python",
   "name": "python",
   "nbconvert_exporter": "python",
   "pygments_lexer": "ipython3",
   "version": "3.6.6"
  }
 },
 "nbformat": 4,
 "nbformat_minor": 2
}
